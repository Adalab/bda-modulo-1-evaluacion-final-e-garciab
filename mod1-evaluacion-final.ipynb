{
 "cells": [
  {
   "cell_type": "code",
   "execution_count": null,
   "metadata": {},
   "outputs": [],
   "source": [
    "#1) Creo una nueva clase que se va a llamar TiendaOnline\n",
    "\n",
    "class TiendaOnline:\n",
    "\n",
    "    #2) Defino los atributos que van a describir cada objeto de mi clase\n",
    "    def __init__(self):\n",
    "        self.inventario = []\n",
    "        self.clientes = {}\n",
    "        self.ventas_totales = 0.0\n",
    "\n",
    "    #3) Agrego los diferentes métodos que va a tener mi clase:\n",
    "    #3.1) Este método agrega un producto al inventario o actualiza su cantidad si ya existe. Recibe como parametros nombre, precio y cantidad. \n",
    "    def agregar_producto(self, nombre, precio, cantidad):\n",
    "        for producto in self.inventario: #itera a través de la lista self.inventario\n",
    "            if producto['nombre'] == nombre: #si encuentra en la lista un producto que ya existe, actualiza la cantidad. Cada producto es un diccionario dentro de la lista self.inventario.\n",
    "                if cantidad >= 0: #limito que el parámetro cantidad solo pueda recibir números positivos. Este método se utiliza sólo para agregar producto, no para restar. \n",
    "                    producto['cantidad'] += cantidad\n",
    "                    print(f\"Se ha agregado al inventario {cantidad} unidades de {nombre}\")\n",
    "                else: \n",
    "                    print(f\"Lo siento, no se pueden añadir {cantidad} unidades de {nombre}\")\n",
    "                return\n",
    "        if cantidad >= 0: #limito que el parámetro cantidad solo pueda recibir números positivos. Este método se utiliza sólo para agregar producto, no para restar.\n",
    "            nuevo_producto = {'nombre': nombre, 'precio': precio, 'cantidad': cantidad} #si no encuentra el producto pasado como parametro en la lista, lo agrega como nuevo producto al inventario.\n",
    "            self.inventario.append(nuevo_producto)\n",
    "            print(f\"Se ha agregado al inventario {cantidad} unidades de {nombre}\")\n",
    "        else: \n",
    "            print(f\"Lo siento, no se pueden añadir {cantidad} unidades de {nombre}\")\n",
    "            return\n",
    "          \n",
    "    #3.2) Este método muestra el inventario de productos con sus detalles (nombre, precio y cantidad).\n",
    "    def ver_inventario(self):\n",
    "        for producto in self.inventario: #itera a través de la lista self.inventario\n",
    "            print(f\"Nombre: {producto['nombre']}, Precio(€/ud): {producto['precio']}, Cantidad: {producto['cantidad']}\") #imprime los detalles (nombre, precio y cantidad) para cada producto que encuentra dentro de la lista self.inventario.\n",
    "        return\n",
    "    \n",
    "    #3.3) Este método busca un producto en el inventario por nombre y muestra sus detalles si se encuentra. En caso de no encontrarlo, muestra un mensaje de error.\n",
    "    def buscar_producto(self, nombre):\n",
    "        for producto in self.inventario: #itera a través de la lista self.inventario. Cada producto es un diccionario.\n",
    "            if producto['nombre'] == nombre: #en caso de encontrar el producto en el inventario, imprime sus detalles.\n",
    "                print(f\"Nombre:{producto['nombre']}, Precio(€/ud): {producto['precio']}, Cantidad:{producto['cantidad']}\")\n",
    "                return\n",
    "        print(f\"Lo siento, no tenemos stock de {nombre}\") #en caso de no encontrar el producto en el inventario, devuelve un mensaje de error.\n",
    "        return\n",
    "         \n",
    "    #3.4) Este método actualiza el stock de un producto en el inventario (puede sumar o restar unidades de producto)\n",
    "    def actualizar_stock(self, nombre, cantidad):\n",
    "        for producto in self.inventario: #itera a través de la lista self.inventario. Cada producto es un diccionario.\n",
    "            if producto['nombre'] == nombre: #cuando encuentra el producto en el inventario, entra en este bucle\n",
    "                if cantidad < 0 and abs(cantidad) > producto['cantidad']: #en caso de que la cantidad a actualizar sea un número negativo, limitamos que no pueda restar más que la cantidad de producto disponible en el inventario (quedaría el inventario en negativo)\n",
    "                    print(f\"Stock insuficiente, no se pueden restar {abs(cantidad)} unidades de {nombre}. El stock de {nombre} es {producto['cantidad']}\")\n",
    "                else:\n",
    "                    producto['cantidad'] += cantidad #si la cantidad a actualizar es un numero positivo, actualiza la cantidad en el inventario y devuelve mensaje.\n",
    "                    print(f\"El stock se ha actualizado. Ahora hay {producto['cantidad']} unidades de {producto['nombre']}\")\n",
    "                return\n",
    "        print(f\"Lo siento, no tenemos stock de {nombre}. Agrega el producto al inventario antes de actualizar la cantidad.\") #devuelve mensaje de error en caso de que se intente actualizar el stock de un producto que no existe en el inventario. En este caso, habría que primero agregar el producto utilizando el método agregar_producto.\n",
    "\n",
    "    #3.5) Este método elimina un producto del inventario\n",
    "    def eliminar_producto(self, nombre):\n",
    "        for producto in self.inventario: #itera a través de la lista self.inventario\n",
    "            if producto['nombre'] == nombre: #cuando encuentra el producto en el inventario, entra en este bucle\n",
    "                self.inventario.remove(producto) #elimina el producto de la lista de inventario y devuelve un mensaje de confirmación\n",
    "                print(f\"Se ha eliminado correctamente el producto {nombre}\")\n",
    "                return\n",
    "        print(f\"Lo siento, no tenemos stock de {nombre}\") #si no existe ese producto en el inventario, devuelve un mensaje de error. \n",
    "    \n",
    "    #3.6) Este método calcula y muestra el valor total del inventario\n",
    "    def calcular_valor_inventario(self):\n",
    "        valor_inventario = 0\n",
    "        for producto in self.inventario: #itera a través de la lista self.inventario\n",
    "            valor_producto = producto['precio'] * producto['cantidad'] # calcula el valor en inventario de cada producto (precio*cantidad)\n",
    "            valor_inventario += valor_producto #acumula en valor_inventario el sumatorio del valor de cada producto\n",
    "        print(f\"El valor total del inventario es {valor_inventario} euros.\") #devuelve un mensaje con el valor total del inventario.\n",
    "\n",
    "    #3.7) Este método permite al cliente realizar una compra seleccionando productos del inventario. Debe interactuar con el cliente para seleccionar productos y calcular el coste total de la compra.\n",
    "    def realizar_compra(self):\n",
    "        carrito_compra = {} #creo un carrito vacío que irá recogiendo los productos y cantidad que el cliente quiera comprar. Será un diccionario con el nombre del producto como clave y la cantidad comprada como valor.\n",
    "        while True: #este bucle permite que el cliente pueda comprar varios productos\n",
    "            self.ver_inventario () # muestra el inventario de productos disponibles al cliente al inicio del proceso y después de cada acción\n",
    "            producto_carrito = input(\"¿Qué producto quieres comprar? Escribe 'salir' para finalizar la compra.\") #el cliente escribe el nombre del producto que quiere comprar\n",
    "            if producto_carrito.lower() == 'salir': #si el cliente escribe 'salir' se termina la compra.\n",
    "                break \n",
    "            producto_encontrado = None #busca en el inventario si el producto existe\n",
    "            for producto in self.inventario:\n",
    "                if producto['nombre'] == producto_carrito:\n",
    "                    producto_encontrado = producto\n",
    "                    break                \n",
    "            if not producto_encontrado:\n",
    "                print(f\"Lo siento, no hay stock de {producto_carrito}\")\n",
    "                continue\n",
    "            cantidad_carrito = int(input(\"¿Cuántas unidades quieres comprar?\"))\n",
    "            if producto_encontrado['cantidad'] < cantidad_carrito:\n",
    "                print(f\"Lo siento, no tenemos suficiente stock de {producto_carrito}. Las unidades disponibles son {producto_encontrado['cantidad']}\") \n",
    "                continue\n",
    "            if producto_carrito in carrito_compra:\n",
    "                carrito_compra['producto_carrito'] += cantidad_carrito\n",
    "            else:\n",
    "                carrito_compra['producto_carrito'] = cantidad_carrito\n",
    "            producto_encontrado['cantidad'] -= cantidad_carrito\n",
    "            print(f\"Se han agregado al carrito {cantidad_carrito} unidades de {producto_carrito}\")\n",
    "\n",
    "            #coste_total_compra = 0\n",
    "#                and producto['cantidad'] >= cesta_cantidad:\n",
    " #                   nueva_compra = {'nombre': cesta_producto, 'cantidad': cesta_cantidad}\n",
    "  #                  cesta_compra.append(nueva_compra)   \n",
    "    \n",
    "\n",
    "\n",
    "\n",
    "    "
   ]
  },
  {
   "cell_type": "code",
   "execution_count": 577,
   "metadata": {},
   "outputs": [],
   "source": [
    "MiTienda = TiendaOnline()"
   ]
  },
  {
   "cell_type": "code",
   "execution_count": 578,
   "metadata": {},
   "outputs": [
    {
     "name": "stdout",
     "output_type": "stream",
     "text": [
      "Se ha agregado al inventario 20 unidades de naranjas\n"
     ]
    }
   ],
   "source": [
    "MiTienda.agregar_producto('naranjas', 2, 20)"
   ]
  },
  {
   "cell_type": "code",
   "execution_count": 579,
   "metadata": {},
   "outputs": [
    {
     "name": "stdout",
     "output_type": "stream",
     "text": [
      "Se ha agregado al inventario 10 unidades de limones\n"
     ]
    }
   ],
   "source": [
    "MiTienda.agregar_producto('limones', 3, 10)"
   ]
  },
  {
   "cell_type": "code",
   "execution_count": 580,
   "metadata": {},
   "outputs": [
    {
     "name": "stdout",
     "output_type": "stream",
     "text": [
      "Se ha agregado al inventario 5 unidades de patatas\n"
     ]
    }
   ],
   "source": [
    "MiTienda.agregar_producto('patatas', 2, 5)"
   ]
  },
  {
   "cell_type": "code",
   "execution_count": 581,
   "metadata": {},
   "outputs": [
    {
     "name": "stdout",
     "output_type": "stream",
     "text": [
      "Lo siento, no se pueden añadir -1 unidades de patatas\n"
     ]
    }
   ],
   "source": [
    "MiTienda.agregar_producto('patatas', 2, -1)"
   ]
  },
  {
   "cell_type": "code",
   "execution_count": 582,
   "metadata": {},
   "outputs": [
    {
     "name": "stdout",
     "output_type": "stream",
     "text": [
      "Lo siento, no se pueden añadir -2 unidades de paraguaya\n"
     ]
    }
   ],
   "source": [
    "MiTienda.agregar_producto('paraguaya', 5, -2)"
   ]
  },
  {
   "cell_type": "code",
   "execution_count": 583,
   "metadata": {},
   "outputs": [
    {
     "name": "stdout",
     "output_type": "stream",
     "text": [
      "Nombre: naranjas, Precio(€/ud): 2, Cantidad: 20\n",
      "Nombre: limones, Precio(€/ud): 3, Cantidad: 10\n",
      "Nombre: patatas, Precio(€/ud): 2, Cantidad: 5\n"
     ]
    }
   ],
   "source": [
    "MiTienda.ver_inventario()"
   ]
  },
  {
   "cell_type": "code",
   "execution_count": 584,
   "metadata": {},
   "outputs": [
    {
     "name": "stdout",
     "output_type": "stream",
     "text": [
      "Nombre:limones, Precio(€/ud): 3, Cantidad:10\n"
     ]
    }
   ],
   "source": [
    "MiTienda.buscar_producto('limones')"
   ]
  },
  {
   "cell_type": "code",
   "execution_count": 585,
   "metadata": {},
   "outputs": [
    {
     "name": "stdout",
     "output_type": "stream",
     "text": [
      "Nombre:patatas, Precio(€/ud): 2, Cantidad:5\n"
     ]
    }
   ],
   "source": [
    "MiTienda.buscar_producto('patatas')"
   ]
  },
  {
   "cell_type": "code",
   "execution_count": 586,
   "metadata": {},
   "outputs": [
    {
     "name": "stdout",
     "output_type": "stream",
     "text": [
      "Lo siento, no tenemos stock de paraguayas\n"
     ]
    }
   ],
   "source": [
    "MiTienda.buscar_producto('paraguayas')"
   ]
  },
  {
   "cell_type": "code",
   "execution_count": 587,
   "metadata": {},
   "outputs": [
    {
     "name": "stdout",
     "output_type": "stream",
     "text": [
      "El stock se ha actualizado. Ahora hay 15 unidades de patatas\n"
     ]
    }
   ],
   "source": [
    "MiTienda.actualizar_stock('patatas', +10)"
   ]
  },
  {
   "cell_type": "code",
   "execution_count": 588,
   "metadata": {},
   "outputs": [
    {
     "name": "stdout",
     "output_type": "stream",
     "text": [
      "Lo siento, no tenemos stock de paraguayas. Agrega el producto al inventario antes de actualizar la cantidad.\n"
     ]
    }
   ],
   "source": [
    "MiTienda.actualizar_stock('paraguayas', 1)"
   ]
  },
  {
   "cell_type": "code",
   "execution_count": 589,
   "metadata": {},
   "outputs": [
    {
     "name": "stdout",
     "output_type": "stream",
     "text": [
      "Nombre: naranjas, Precio(€/ud): 2, Cantidad: 20\n",
      "Nombre: limones, Precio(€/ud): 3, Cantidad: 10\n",
      "Nombre: patatas, Precio(€/ud): 2, Cantidad: 15\n"
     ]
    }
   ],
   "source": [
    "MiTienda.ver_inventario()"
   ]
  },
  {
   "cell_type": "code",
   "execution_count": 590,
   "metadata": {},
   "outputs": [
    {
     "name": "stdout",
     "output_type": "stream",
     "text": [
      "El stock se ha actualizado. Ahora hay 10 unidades de patatas\n"
     ]
    }
   ],
   "source": [
    "MiTienda.actualizar_stock('patatas', -5)"
   ]
  },
  {
   "cell_type": "code",
   "execution_count": 591,
   "metadata": {},
   "outputs": [
    {
     "name": "stdout",
     "output_type": "stream",
     "text": [
      "Stock insuficiente, no se pueden restar 11 unidades de limones. El stock de limones es 10\n"
     ]
    }
   ],
   "source": [
    "MiTienda.actualizar_stock('limones', -11)"
   ]
  },
  {
   "cell_type": "code",
   "execution_count": 592,
   "metadata": {},
   "outputs": [
    {
     "name": "stdout",
     "output_type": "stream",
     "text": [
      "Nombre: naranjas, Precio(€/ud): 2, Cantidad: 20\n",
      "Nombre: limones, Precio(€/ud): 3, Cantidad: 10\n",
      "Nombre: patatas, Precio(€/ud): 2, Cantidad: 10\n"
     ]
    }
   ],
   "source": [
    "MiTienda.ver_inventario()"
   ]
  },
  {
   "cell_type": "code",
   "execution_count": 593,
   "metadata": {},
   "outputs": [
    {
     "name": "stdout",
     "output_type": "stream",
     "text": [
      "Se ha agregado al inventario 20 unidades de paraguayas\n"
     ]
    }
   ],
   "source": [
    "MiTienda.agregar_producto('paraguayas', 5, 20)"
   ]
  },
  {
   "cell_type": "code",
   "execution_count": 594,
   "metadata": {},
   "outputs": [
    {
     "name": "stdout",
     "output_type": "stream",
     "text": [
      "Lo siento, no tenemos stock de aguacates. Agrega el producto al inventario antes de actualizar la cantidad.\n"
     ]
    }
   ],
   "source": [
    "MiTienda.actualizar_stock('aguacates', 5)"
   ]
  },
  {
   "cell_type": "code",
   "execution_count": 595,
   "metadata": {},
   "outputs": [
    {
     "name": "stdout",
     "output_type": "stream",
     "text": [
      "Se ha agregado al inventario 30 unidades de aguacates\n"
     ]
    }
   ],
   "source": [
    "MiTienda.agregar_producto('aguacates', 6, 30)"
   ]
  },
  {
   "cell_type": "code",
   "execution_count": 596,
   "metadata": {},
   "outputs": [
    {
     "name": "stdout",
     "output_type": "stream",
     "text": [
      "Nombre: naranjas, Precio(€/ud): 2, Cantidad: 20\n",
      "Nombre: limones, Precio(€/ud): 3, Cantidad: 10\n",
      "Nombre: patatas, Precio(€/ud): 2, Cantidad: 10\n",
      "Nombre: paraguayas, Precio(€/ud): 5, Cantidad: 20\n",
      "Nombre: aguacates, Precio(€/ud): 6, Cantidad: 30\n"
     ]
    }
   ],
   "source": [
    "MiTienda.ver_inventario()"
   ]
  },
  {
   "cell_type": "code",
   "execution_count": 597,
   "metadata": {},
   "outputs": [
    {
     "name": "stdout",
     "output_type": "stream",
     "text": [
      "Nombre:aguacates, Precio(€/ud): 6, Cantidad:30\n"
     ]
    }
   ],
   "source": [
    "MiTienda.buscar_producto('aguacates')"
   ]
  },
  {
   "cell_type": "code",
   "execution_count": 598,
   "metadata": {},
   "outputs": [
    {
     "name": "stdout",
     "output_type": "stream",
     "text": [
      "Lo siento, no tenemos stock de zanahorias\n"
     ]
    }
   ],
   "source": [
    "MiTienda.buscar_producto('zanahorias')"
   ]
  },
  {
   "cell_type": "code",
   "execution_count": 599,
   "metadata": {},
   "outputs": [
    {
     "name": "stdout",
     "output_type": "stream",
     "text": [
      "Lo siento, no tenemos stock de zanahorias\n"
     ]
    }
   ],
   "source": [
    "MiTienda.eliminar_producto('zanahorias')"
   ]
  },
  {
   "cell_type": "code",
   "execution_count": 600,
   "metadata": {},
   "outputs": [
    {
     "name": "stdout",
     "output_type": "stream",
     "text": [
      "Se ha eliminado correctamente el producto limones\n"
     ]
    }
   ],
   "source": [
    "MiTienda.eliminar_producto('limones')"
   ]
  },
  {
   "cell_type": "code",
   "execution_count": 601,
   "metadata": {},
   "outputs": [
    {
     "name": "stdout",
     "output_type": "stream",
     "text": [
      "Nombre: naranjas, Precio(€/ud): 2, Cantidad: 20\n",
      "Nombre: patatas, Precio(€/ud): 2, Cantidad: 10\n",
      "Nombre: paraguayas, Precio(€/ud): 5, Cantidad: 20\n",
      "Nombre: aguacates, Precio(€/ud): 6, Cantidad: 30\n"
     ]
    }
   ],
   "source": [
    "MiTienda.ver_inventario()"
   ]
  },
  {
   "cell_type": "code",
   "execution_count": 602,
   "metadata": {},
   "outputs": [
    {
     "name": "stdout",
     "output_type": "stream",
     "text": [
      "El valor total del inventario es 340 euros.\n"
     ]
    }
   ],
   "source": [
    "MiTienda.calcular_valor_inventario()"
   ]
  },
  {
   "cell_type": "code",
   "execution_count": 603,
   "metadata": {},
   "outputs": [
    {
     "name": "stdout",
     "output_type": "stream",
     "text": [
      "Nombre: naranjas, Precio(€/ud): 2, Cantidad: 20\n",
      "Nombre: patatas, Precio(€/ud): 2, Cantidad: 10\n",
      "Nombre: paraguayas, Precio(€/ud): 5, Cantidad: 20\n",
      "Nombre: aguacates, Precio(€/ud): 6, Cantidad: 30\n",
      "Se han agregado al carrito 5 unidades de naranjas\n",
      "Nombre: naranjas, Precio(€/ud): 2, Cantidad: 15\n",
      "Nombre: patatas, Precio(€/ud): 2, Cantidad: 10\n",
      "Nombre: paraguayas, Precio(€/ud): 5, Cantidad: 20\n",
      "Nombre: aguacates, Precio(€/ud): 6, Cantidad: 30\n",
      "Se han agregado al carrito 2 unidades de paraguayas\n",
      "Nombre: naranjas, Precio(€/ud): 2, Cantidad: 15\n",
      "Nombre: patatas, Precio(€/ud): 2, Cantidad: 10\n",
      "Nombre: paraguayas, Precio(€/ud): 5, Cantidad: 18\n",
      "Nombre: aguacates, Precio(€/ud): 6, Cantidad: 30\n",
      "Lo siento, no hay stock de limones\n",
      "Nombre: naranjas, Precio(€/ud): 2, Cantidad: 15\n",
      "Nombre: patatas, Precio(€/ud): 2, Cantidad: 10\n",
      "Nombre: paraguayas, Precio(€/ud): 5, Cantidad: 18\n",
      "Nombre: aguacates, Precio(€/ud): 6, Cantidad: 30\n",
      "Lo siento, no tenemos suficiente stock de patatas. Las unidades disponibles son 10\n",
      "Nombre: naranjas, Precio(€/ud): 2, Cantidad: 15\n",
      "Nombre: patatas, Precio(€/ud): 2, Cantidad: 10\n",
      "Nombre: paraguayas, Precio(€/ud): 5, Cantidad: 18\n",
      "Nombre: aguacates, Precio(€/ud): 6, Cantidad: 30\n"
     ]
    }
   ],
   "source": [
    "MiTienda.realizar_compra()"
   ]
  }
 ],
 "metadata": {
  "kernelspec": {
   "display_name": "Python 3",
   "language": "python",
   "name": "python3"
  },
  "language_info": {
   "codemirror_mode": {
    "name": "ipython",
    "version": 3
   },
   "file_extension": ".py",
   "mimetype": "text/x-python",
   "name": "python",
   "nbconvert_exporter": "python",
   "pygments_lexer": "ipython3",
   "version": "3.13.0"
  }
 },
 "nbformat": 4,
 "nbformat_minor": 2
}
