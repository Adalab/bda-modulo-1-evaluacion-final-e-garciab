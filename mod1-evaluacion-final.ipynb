{
 "cells": [
  {
   "cell_type": "code",
   "execution_count": 439,
   "metadata": {},
   "outputs": [],
   "source": [
    "#1) Creo una clase que se va a llamar TiendaOnline\n",
    "\n",
    "class TiendaOnline:\n",
    "\n",
    "    #2) Defino los atributos que van a describir cada objeto de mi clase (¿qué parámetros van a determinar las características de mi tienda online?)\n",
    "    def __init__(self):\n",
    "        self.inventario = []\n",
    "        self.clientes = {}\n",
    "        self.ventas_totales = 0.0\n",
    "\n",
    "    #3) Agrego los métodos que va a tener mi clase:\n",
    "    def agregar_producto(self, nombre, precio, cantidad):\n",
    "        for producto in self.inventario:\n",
    "            if producto['nombre'] == nombre:\n",
    "                producto['cantidad'] += cantidad\n",
    "                return\n",
    "        nuevo_producto = {'nombre': nombre, 'precio': precio, 'cantidad': cantidad}\n",
    "        self.inventario.append(nuevo_producto)\n",
    "    \n",
    "    def ver_inventario(self):\n",
    "        for producto in self.inventario:\n",
    "            print(f\"Nombre: {producto['nombre']}, Precio: {producto['precio']}, Cantidad: {producto['cantidad']}\")\n",
    "        return\n",
    "    \n",
    "    def buscar_producto(self, nombre):\n",
    "        for producto in self.inventario:\n",
    "            if producto['nombre'] == nombre:\n",
    "                print(f\"Nombre:{producto['nombre']}, Precio: {producto['precio']}, Cantidad:{producto['cantidad']}\")\n",
    "                return\n",
    "        print(f\"Lo siento, no tenemos stock de {nombre}\")\n",
    "         \n",
    "    def actualizar_stock(self, nombre, cantidad):\n",
    "        for producto in self.inventario:\n",
    "            if producto['nombre'] == nombre:\n",
    "                producto['cantidad'] += cantidad\n",
    "        print(f\"Lo siento, no tenemos stock de {nombre}\")\n",
    "        "
   ]
  },
  {
   "cell_type": "code",
   "execution_count": 440,
   "metadata": {},
   "outputs": [],
   "source": [
    "MiTienda = TiendaOnline()"
   ]
  },
  {
   "cell_type": "code",
   "execution_count": 441,
   "metadata": {},
   "outputs": [],
   "source": [
    "MiTienda.agregar_producto ('television', 100, 1)"
   ]
  },
  {
   "cell_type": "code",
   "execution_count": 442,
   "metadata": {},
   "outputs": [],
   "source": [
    "MiTienda.agregar_producto('libro', 5, 10)"
   ]
  },
  {
   "cell_type": "code",
   "execution_count": 443,
   "metadata": {},
   "outputs": [
    {
     "name": "stdout",
     "output_type": "stream",
     "text": [
      "Nombre: television, Precio: 100, Cantidad: 1\n",
      "Nombre: libro, Precio: 5, Cantidad: 10\n"
     ]
    }
   ],
   "source": [
    "MiTienda.ver_inventario()"
   ]
  },
  {
   "cell_type": "code",
   "execution_count": 444,
   "metadata": {},
   "outputs": [],
   "source": [
    "MiTienda.agregar_producto('mesa', 50, 5)"
   ]
  },
  {
   "cell_type": "code",
   "execution_count": 445,
   "metadata": {},
   "outputs": [
    {
     "name": "stdout",
     "output_type": "stream",
     "text": [
      "Nombre: television, Precio: 100, Cantidad: 1\n",
      "Nombre: libro, Precio: 5, Cantidad: 10\n",
      "Nombre: mesa, Precio: 50, Cantidad: 5\n"
     ]
    }
   ],
   "source": [
    "MiTienda.ver_inventario()"
   ]
  },
  {
   "cell_type": "code",
   "execution_count": 446,
   "metadata": {},
   "outputs": [
    {
     "name": "stdout",
     "output_type": "stream",
     "text": [
      "Nombre:libro, Precio: 5, Cantidad:10\n"
     ]
    }
   ],
   "source": [
    "MiTienda.buscar_producto('libro')"
   ]
  },
  {
   "cell_type": "code",
   "execution_count": 447,
   "metadata": {},
   "outputs": [
    {
     "name": "stdout",
     "output_type": "stream",
     "text": [
      "Lo siento, no tenemos stock de silla\n"
     ]
    }
   ],
   "source": [
    "MiTienda.buscar_producto('silla')"
   ]
  },
  {
   "cell_type": "code",
   "execution_count": 448,
   "metadata": {},
   "outputs": [
    {
     "name": "stdout",
     "output_type": "stream",
     "text": [
      "Lo siento, no tenemos stock de mesa\n"
     ]
    }
   ],
   "source": [
    "MiTienda.actualizar_stock('mesa', 5)"
   ]
  },
  {
   "cell_type": "code",
   "execution_count": 449,
   "metadata": {},
   "outputs": [
    {
     "name": "stdout",
     "output_type": "stream",
     "text": [
      "Nombre: television, Precio: 100, Cantidad: 1\n",
      "Nombre: libro, Precio: 5, Cantidad: 10\n",
      "Nombre: mesa, Precio: 50, Cantidad: 10\n"
     ]
    }
   ],
   "source": [
    "MiTienda.ver_inventario()"
   ]
  },
  {
   "cell_type": "code",
   "execution_count": 450,
   "metadata": {},
   "outputs": [
    {
     "name": "stdout",
     "output_type": "stream",
     "text": [
      "Lo siento, no tenemos stock de cacahuete\n"
     ]
    }
   ],
   "source": [
    "MiTienda.actualizar_stock('cacahuete', 100)"
   ]
  },
  {
   "cell_type": "code",
   "execution_count": 451,
   "metadata": {},
   "outputs": [
    {
     "name": "stdout",
     "output_type": "stream",
     "text": [
      "Nombre: television, Precio: 100, Cantidad: 1\n",
      "Nombre: libro, Precio: 5, Cantidad: 10\n",
      "Nombre: mesa, Precio: 50, Cantidad: 10\n"
     ]
    }
   ],
   "source": [
    "MiTienda.ver_inventario()"
   ]
  },
  {
   "cell_type": "code",
   "execution_count": 452,
   "metadata": {},
   "outputs": [
    {
     "name": "stdout",
     "output_type": "stream",
     "text": [
      "Lo siento, no tenemos stock de television\n"
     ]
    }
   ],
   "source": [
    "MiTienda.actualizar_stock('television', 5)"
   ]
  },
  {
   "cell_type": "code",
   "execution_count": 453,
   "metadata": {},
   "outputs": [
    {
     "ename": "IndentationError",
     "evalue": "expected an indented block after function definition on line 1 (421741769.py, line 3)",
     "output_type": "error",
     "traceback": [
      "\u001b[1;36m  Cell \u001b[1;32mIn[453], line 3\u001b[1;36m\u001b[0m\n\u001b[1;33m    def calcular_valor_inventario(self):\u001b[0m\n\u001b[1;37m    ^\u001b[0m\n\u001b[1;31mIndentationError\u001b[0m\u001b[1;31m:\u001b[0m expected an indented block after function definition on line 1\n"
     ]
    }
   ],
   "source": [
    "    \n",
    "\n",
    "    \n",
    "\n",
    "\n",
    "\n",
    "    def eliminar_producto(self, nombre):\n",
    "\n",
    "    def calcular_valor_inventario(self):\n",
    "\n",
    "    def realizar_compra(self):"
   ]
  }
 ],
 "metadata": {
  "kernelspec": {
   "display_name": "Python 3",
   "language": "python",
   "name": "python3"
  },
  "language_info": {
   "codemirror_mode": {
    "name": "ipython",
    "version": 3
   },
   "file_extension": ".py",
   "mimetype": "text/x-python",
   "name": "python",
   "nbconvert_exporter": "python",
   "pygments_lexer": "ipython3",
   "version": "3.13.0"
  }
 },
 "nbformat": 4,
 "nbformat_minor": 2
}
